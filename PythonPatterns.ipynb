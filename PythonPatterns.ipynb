{
 "cells": [
  {
   "cell_type": "markdown",
   "metadata": {},
   "source": [
    "# Creational Patterns\n",
    "Used to create objects in a systematic way."
   ]
  },
  {
   "cell_type": "markdown",
   "metadata": {},
   "source": [
    "## Factory Class\n",
    "When you want to allow only one object to be instantiated from a class\n",
    "- When Uncertainties in type of objects\n",
    "- Decisions to be made at runtime regarding what classes to use"
   ]
  },
  {
   "cell_type": "code",
   "execution_count": 10,
   "metadata": {},
   "outputs": [
    {
     "name": "stdout",
     "output_type": "stream",
     "text": [
      "object -> Connection: http_connection\n",
      "Object -> Connection: FTP_connection\n"
     ]
    }
   ],
   "source": [
    "class SocketH:\n",
    "    \"\"\"An example class\"\"\"\n",
    "    def __init__(self, name):\n",
    "        self.name = name\n",
    "        \n",
    "    def action(self):\n",
    "        return f\"Connection: {self.name}\"\n",
    "    \n",
    "class SocketF:\n",
    "    \"\"\"An example class\"\"\"\n",
    "    def __init__(self, name):\n",
    "        self.name = name\n",
    "        \n",
    "    def action(self):\n",
    "        return f\"Connection: {self.name}\"\n",
    "\n",
    "    \n",
    "def get_connection(connection=\"http\"):\n",
    "    \"\"\"The factory method\"\"\"\n",
    "    connections = {'http': SocketH(\"http_connection\"),\n",
    "                   'FTP': SocketF('FTP_connection')}\n",
    "    \n",
    "    return connections[connection]\n",
    "\n",
    "\n",
    "# Running factory function\n",
    "http = get_connection('http')\n",
    "print(f\"object -> {http.action()}\")\n",
    "\n",
    "ftp = get_connection('FTP')\n",
    "print(f\"Object -> {ftp.action()}\")"
   ]
  },
  {
   "cell_type": "markdown",
   "metadata": {},
   "source": [
    "## Abastract Factory\n",
    "When the user expectation yields multiple, related objects at a given time but don't need to know which family it is until runtime.\n",
    "- Abstract factory: connections factory\n",
    "- Concrete factory: http factory and ftp factory\n",
    "- Abstract product\n",
    "- Concrete product: http and get_request; ftp and push_request"
   ]
  },
  {
   "cell_type": "code",
   "execution_count": 15,
   "metadata": {},
   "outputs": [
    {
     "name": "stdout",
     "output_type": "stream",
     "text": [
      "Connection: Socket_h\n",
      "Action Connection: http\n",
      "Request: get request\n"
     ]
    }
   ],
   "source": [
    "class SocketH:\n",
    "    \"\"\"One of the objects to be returned\"\"\"\n",
    "    \n",
    "    def action(self):\n",
    "        return f\"Connection: http\"\n",
    "    \n",
    "    def __str__(self):\n",
    "        return \"Socket_h\"\n",
    "    \n",
    "    \n",
    "class SocketHFactory:\n",
    "    \"\"\"Concrete factory\"\"\"\n",
    "    \n",
    "    def get_connection(self):\n",
    "        \"\"\"Returns a Connection object\"\"\"\n",
    "        return SocketH()\n",
    "        \n",
    "    def get_request(self):\n",
    "        \"\"\"Returns a Get Request object\"\"\"\n",
    "        return \"get request\"\n",
    "    \n",
    "class Connections:\n",
    "    \"\"\"Connections class houses our abstract factory\"\"\"\n",
    "    \n",
    "    def __init__(self, connection_factory = None):\n",
    "        \"\"\"Connections class is our abstract factory\"\"\"\n",
    "        \n",
    "        self._connection_factory = connection_factory\n",
    "\n",
    "        \n",
    "    def show_connection(self):\n",
    "        \"\"\"Utility method to display details of the objects returned\n",
    "        by the Connection factory\"\"\"\n",
    "        \n",
    "        connection = self._connection_factory.get_connection()\n",
    "        request = self._connection_factory.get_request()\n",
    "        \n",
    "        print(f\"Connection: {connection}\")\n",
    "        print(f\"Action {connection.action()}\")\n",
    "        print(f\"Request: {request}\")\n",
    "    \n",
    "# Create a Concrete Factory\n",
    "factory_a = SocketHFactory()\n",
    "factory_b = SocketHFactory()\n",
    "\n",
    "# Create a connections, our Abstract Factory\n",
    "connect = Connections(factory_a)\n",
    "\n",
    "# Invoke the utility method to show the details\n",
    "connect.show_connection()"
   ]
  },
  {
   "cell_type": "markdown",
   "metadata": {},
   "source": [
    "## Singleton\n",
    "Allows to keep information in a single object there is no need to extract the information every time. When you want to allow only one object to be instantiated from a class\n",
    "- Only one object instanciated fro\n",
    "m a class\n",
    "- Crating a global variable in an object-oriented way"
   ]
  },
  {
   "cell_type": "code",
   "execution_count": 28,
   "metadata": {
    "scrolled": false
   },
   "outputs": [
    {
     "name": "stdout",
     "output_type": "stream",
     "text": [
      "First print: {'HTTP': 'Hyper Text Transfer Protocol'}\n",
      "Second print: {'HTTP': 'Hyper Text Transfer Protocol', 'SNMP': 'Simple Network Management Protocol'}\n"
     ]
    }
   ],
   "source": [
    "class Borg:\n",
    "    \"\"\"Borg class attributes global\"\"\"\n",
    "    _shared_state = {} # Attribute dictionary\n",
    "    \n",
    "    def __init__(self):\n",
    "        self.__dict__ = self._shared_state\n",
    "    \n",
    "class Singleton(Borg): # Inherits from the Borg class\n",
    "    \"\"\"This class now shares all its attributes among its various instances\"\"\"\n",
    "    # This essentially makes the singleton objects an object-oriented\n",
    "    def __init__(self, **kwargs):\n",
    "        # Update the attribute dictionary by insrting a new key-value pair\n",
    "        self._shared_state.update(kwargs)        \n",
    "    \n",
    "    def __str__(self):\n",
    "        return str(self._shared_state)\n",
    "\n",
    "# Create a singleton object and add our fiest acronym\n",
    "singleton = Singleton(HTTP = \"Hyper Text Transfer Protocol\")\n",
    "\n",
    "# Print the updated object\n",
    "print(f\"First print: {singleton}\")\n",
    "\n",
    "# Create another singleton object by adding another acronym\n",
    "singleton = Singleton(SNMP = \"Simple Network Management Protocol\")\n",
    "\n",
    "# Print the updated object\n",
    "print(f\"Second print: {singleton}\")"
   ]
  },
  {
   "cell_type": "markdown",
   "metadata": {},
   "source": [
    "## Builder\n",
    "To avoid telescoping constructor anti-pattern.\n",
    "- Director: builds the project\n",
    "- Abstract Builder: interfaces\n",
    "- Concrete Builder: implements the interfaces\n",
    "- Product: object being build"
   ]
  },
  {
   "cell_type": "code",
   "execution_count": 34,
   "metadata": {},
   "outputs": [
    {
     "name": "stdout",
     "output_type": "stream",
     "text": [
      "skwh | HTTP | Skyler White\n"
     ]
    }
   ],
   "source": [
    "class Director:\n",
    "    \"\"\"Director class\"\"\"\n",
    "    def __init__(self, builder):\n",
    "        self._builder = builder\n",
    "        \n",
    "    def construct_obj(self):\n",
    "        self._builder.create_new_obj()\n",
    "        self._builder.add_user()\n",
    "        self._builder.add_connection()\n",
    "        self._builder.add_name()\n",
    "    \n",
    "    def get_obj(self):\n",
    "        return self._builder.obj\n",
    "    \n",
    "class Builder:\n",
    "    \"\"\"Abstract Builder\"\"\"\n",
    "    def __init__(self):\n",
    "        self.obj = None\n",
    "        \n",
    "    def create_new_obj(self):\n",
    "        self.obj = Obj()\n",
    "        \n",
    "class ConcreteBuilder(Builder):\n",
    "    \"\"\"Concrete Builder --> Provides parts and tools to work on the parts\"\"\"\n",
    "    \n",
    "    def add_user(self):\n",
    "        self.obj.user = \"skwh\"\n",
    "        \n",
    "    def add_connection(self):\n",
    "        self.obj.connection = \"HTTP\"\n",
    "        \n",
    "    def add_name(self):\n",
    "        self.obj.name = \"Skyler White\"\n",
    "        \n",
    "class Obj:\n",
    "    \"\"\"Product\"\"\"\n",
    "    def __init__(self):\n",
    "        self.user = None\n",
    "        self.connection = None\n",
    "        self.name = None\n",
    "        \n",
    "    def __str__(self):\n",
    "        return f\"{self.user} | {self.connection} | {self.name}\"\n",
    "        \n",
    "builder = ConcreteBuilder()\n",
    "director = Director(builder)\n",
    "director.construct_obj()\n",
    "obj = director.get_obj()\n",
    "\n",
    "print(obj)"
   ]
  },
  {
   "cell_type": "markdown",
   "metadata": {},
   "source": [
    "## Prototype\n",
    "Useful when creating many identical objects individually.\n",
    "- Create a prototypical instance\n",
    "- Cloning it whenever you need a replica"
   ]
  },
  {
   "cell_type": "code",
   "execution_count": 41,
   "metadata": {},
   "outputs": [
    {
     "name": "stdout",
     "output_type": "stream",
     "text": [
      "api -> api_name | 232.0.0.1 | True\n"
     ]
    }
   ],
   "source": [
    "import copy\n",
    "\n",
    "class Prototype:\n",
    "    \n",
    "    def __init__(self):\n",
    "        self._objects = {}\n",
    "        \n",
    "    def register_object(self, name, obj):\n",
    "        \"\"\"Register an object\"\"\"\n",
    "        self._objects[name] = obj\n",
    "        \n",
    "    def unregister_object(self, name):\n",
    "        \"\"\"Unregister an object\"\"\"\n",
    "        del self._objects[name]\n",
    "        \n",
    "    def clone(self, name, **attr):\n",
    "        \"\"\"Clone a registered object\"\"\"\n",
    "        obj = copy.deepcopy(self._objects[name])\n",
    "        obj.__dict__.update(attr)\n",
    "        return obj\n",
    "    \n",
    "class Api:\n",
    "    def __init__(self):\n",
    "        self.name = \"api_name\"\n",
    "        self.ip = \"192.168.23.85\"\n",
    "        self.option = True\n",
    "        \n",
    "    def __str__(self):\n",
    "        return f\"api -> {self.name} | {self.ip} | {self.option}\"\n",
    "    \n",
    "api = Api()\n",
    "prototype = Prototype()\n",
    "prototype.register_object(\"api_name\", api)\n",
    "\n",
    "api_cloned = prototype.clone(\"api_name\", ip = \"232.0.0.1\")\n",
    "print(api_cloned)"
   ]
  },
  {
   "cell_type": "markdown",
   "metadata": {},
   "source": [
    "---"
   ]
  },
  {
   "cell_type": "markdown",
   "metadata": {},
   "source": [
    "# Structural Patterns\n",
    "Establish useful relationships between software components in certain configurations"
   ]
  },
  {
   "cell_type": "markdown",
   "metadata": {},
   "source": [
    "## Decorators\n",
    "New features to an existing object with dynamic changes, not using subclassing."
   ]
  },
  {
   "cell_type": "code",
   "execution_count": 44,
   "metadata": {
    "scrolled": true
   },
   "outputs": [
    {
     "name": "stdout",
     "output_type": "stream",
     "text": [
      "<blink> Hello, World! </blink>\n",
      "hello_world\n",
      "Original function!\n"
     ]
    }
   ],
   "source": [
    "from functools import wraps\n",
    "\n",
    "def make_blink(function):\n",
    "    \"\"\"Defines the decorator\"\"\"\n",
    "    \n",
    "    # This makes the decoratos transparent in terms of its name and docstring\n",
    "    @wraps(function)\n",
    "    \n",
    "    def decorator():\n",
    "        # Grab the return value of the function being decorated\n",
    "        ret = function()\n",
    "        \n",
    "        # Add new funcionality to the function being decorated\n",
    "        return f\"<blink> {ret} </blink>\"\n",
    "    \n",
    "    return decorator\n",
    "    \n",
    "# Apply the decorator here!\n",
    "@make_blink\n",
    "def hello_world():\n",
    "    \"\"\"Original function!\"\"\"\n",
    "    return \"Hello, World!\"\n",
    "# Check the result of decorating\n",
    "print(hello_world())\n",
    "\n",
    "# Check if the function name is still the same name of the function being decorated.\n",
    "print(hello_world.__name__)\n",
    "\n",
    "# Check if the docstring is still the same as that of the function being decorated.\n",
    "print(hello_world.__doc__)"
   ]
  },
  {
   "cell_type": "markdown",
   "metadata": {},
   "source": [
    "## Proxy\n",
    "Helps to postpone object creation unless absolutely necessary and is responsible for creating the resource intensive objects."
   ]
  },
  {
   "cell_type": "code",
   "execution_count": 1,
   "metadata": {},
   "outputs": [
    {
     "name": "stdout",
     "output_type": "stream",
     "text": [
      "Artist checking if Producer is available...\n",
      "Producer has time to meet you now!\n",
      "Artist checking if Producer is available...\n",
      "Producer is busy!\n"
     ]
    }
   ],
   "source": [
    "import time\n",
    "\n",
    "class Producer:\n",
    "    \"\"\"Define the 'resource-intensive' object to instantiate\"\"\"\n",
    "    def produce(self):\n",
    "        print(\"Producer is working hard!\")\n",
    "    \n",
    "    def meet(self):\n",
    "        print(\"Producer has time to meet you now!\")\n",
    "        \n",
    "class Proxy:\n",
    "    \"\"\"Define the relatively 'less resource-intensive proxy' to instatiate as a middleman\"\"\"\n",
    "    def __init__(self):\n",
    "        self.occupied = False\n",
    "        self.producer = None # Instance of the producer class\n",
    "        \n",
    "    def produce(self):\n",
    "        \"\"\"Check if Producer is available\"\"\"\n",
    "        print(\"Artist checking if Producer is available...\")\n",
    "        \n",
    "        if self.occupied == False:\n",
    "            # If the Producer is available, create a producer object\n",
    "            self.producer = Producer()\n",
    "            time.sleep(2)\n",
    "            \n",
    "            # Make the producer meet the guest\n",
    "            self.producer.meet()\n",
    "            \n",
    "        else:\n",
    "            # Otherwise, don't instantiate a producer\n",
    "            time.sleep(2)\n",
    "            print(\"Producer is busy!\")\n",
    "            \n",
    "# Instantiate a Proxy\n",
    "proxy = Proxy()\n",
    "\n",
    "# Make the Proxy: Artist produce until Producer is available\n",
    "proxy.produce()\n",
    "\n",
    "# Change the state to 'Occupied'\n",
    "proxy.occupied = True\n",
    "\n",
    "# Make the Producer produce\n",
    "proxy.produce()"
   ]
  },
  {
   "cell_type": "markdown",
   "metadata": {},
   "source": [
    "## Adapter\n",
    "Converts the interface of a class into other one the client is expecting"
   ]
  },
  {
   "cell_type": "code",
   "execution_count": 3,
   "metadata": {},
   "outputs": [
    {
     "name": "stdout",
     "output_type": "stream",
     "text": [
      "Spanish says Hola!\n",
      "\n",
      "British says Hello!\n",
      "\n"
     ]
    }
   ],
   "source": [
    "class Spanish:\n",
    "    \"\"\"Korean speaker\"\"\"\n",
    "    def __init__(self):\n",
    "        self.name = \"Spanish\"\n",
    "        \n",
    "    def speak_spanish(self):\n",
    "        return \"Hola!\"\n",
    "    \n",
    "class British:\n",
    "    \"\"\"British speaker\"\"\"\n",
    "    def __init__(self):\n",
    "        self.name = \"British\"\n",
    "        \n",
    "    # Make the difference method name here!\n",
    "    def speak_english(self):\n",
    "        return \"Hello!\"\n",
    "        \n",
    "class Adapter:\n",
    "    \"\"\"This changes the generic method name to individualized method names\"\"\"\n",
    "    def __init__(self, object, **adapter_method):\n",
    "        \"\"\"Change the name of the method\"\"\"\n",
    "        self._object = object\n",
    "        \n",
    "        # add a new dictionary item that establishes the mapping between the generic method name: speak() and the concrete method\n",
    "        # for example, speak() will be translated to speak_korean() if the mapping says so\n",
    "        self.__dict__.update(adapter_method)\n",
    "        \n",
    "    def __getattr__(self, attr):\n",
    "        \"\"\"Simply return the rest of the attributes!\"\"\"\n",
    "        return getattr(self._object, attr)\n",
    "        \n",
    "        \n",
    "# List to store speaker objects\n",
    "objects = []\n",
    "\n",
    "# Create Spanish object\n",
    "spanish = Spanish()\n",
    "\n",
    "# Create British object\n",
    "british = British()\n",
    "\n",
    "# Append the objects to the objects list\n",
    "objects.append(Adapter(spanish, speak = spanish.speak_spanish))\n",
    "objects.append(Adapter(british, speak=british.speak_english))\n",
    "\n",
    "for obj in objects:\n",
    "    print(f\"{obj.name} says {obj.speak()}\\n\")"
   ]
  },
  {
   "cell_type": "markdown",
   "metadata": {},
   "source": [
    "## Composite\n",
    "Recursive tree data structure to represent part whole relationships like Menu an sub-menu items. \n",
    "- Component\n",
    "- Child\n",
    "- Composite"
   ]
  },
  {
   "cell_type": "code",
   "execution_count": 43,
   "metadata": {},
   "outputs": [
    {
     "name": "stdout",
     "output_type": "stream",
     "text": [
      "top_menu\n",
      "\tsubmenu1\n",
      "\t\tsub_menu 11\n",
      "\t\tsub_menu 12\n",
      "\tsubmenu2\n",
      "\t\tsub_menu 11\n"
     ]
    }
   ],
   "source": [
    "class Component(object):\n",
    "    \"\"\"Abstract class\"\"\"\n",
    "    \n",
    "    def __init__(self, *args, **kwargs):\n",
    "        pass\n",
    "    \n",
    "    def component_function(self):\n",
    "        pass\n",
    "\n",
    "class Child(Component): # Inherits from the abstract class Component\n",
    "    \"\"\"Concrete class\"\"\"\n",
    "    \n",
    "    def __init__(self, *args, **kwargs):\n",
    "        Component.__init__(self, *args, **kwargs)\n",
    "        \n",
    "        # This is where we store the name of your child item!\n",
    "        self.name = args[0]\n",
    "        \n",
    "    def component_function(self, tabs):\n",
    "        \"\"\"Print the name of your child item here\"\"\"\n",
    "        tab_spaces = \"\\t\"*tabs\n",
    "        print(f\"{tab_spaces}{self.name}\")\n",
    "    \n",
    "class Composite(Component): # Inherits from the abstract class Component\n",
    "    \"\"\"Concrete class and mantains the tree recursive structure\"\"\"\n",
    "    \n",
    "    def __init__(self, *args, **kwargs):\n",
    "        Component.__init__(self, *args, **kwargs)\n",
    "        \n",
    "        # This is where we store the name of composite object!\n",
    "        self.name = args[0]\n",
    "        \n",
    "        # This is where we keep ur child items\n",
    "        self.children = []\n",
    "        \n",
    "    def append_child(self, child):\n",
    "        \"\"\"Method to add a new child item\"\"\"\n",
    "        self.children.append(child)\n",
    "        \n",
    "    def remove_child(self, child):\n",
    "        \"\"\"Method to remove a new child item\"\"\"\n",
    "        self.children.remove(child)\n",
    "        \n",
    "    def component_function(self, tabs = 0):\n",
    "        \n",
    "        # Print the name of the composite object\n",
    "        tab_spaces = \"\\t\"*tabs\n",
    "        print(f\"{tab_spaces}{self.name}\")\n",
    "        tabs += 1\n",
    "        \n",
    "        # Iterate through the child objects and invoke theircomponent function printing their names\n",
    "        for i in self.children:\n",
    "            i.component_function(tabs = tabs)\n",
    "        \n",
    "\n",
    "# Build a composite submenu 1\n",
    "sub1 = Composite(\"submenu1\")\n",
    "\n",
    "# Create a new child sub_menu 11\n",
    "sub11 = Child(\"sub_menu 11\")\n",
    "# Create a new child sub_menu 12\n",
    "sub12 = Child(\"sub_menu 12\")\n",
    "\n",
    "# Add the sub_menu 11 to submenu 1\n",
    "sub1.append_child(sub11)\n",
    "# Add the sub_menu 12 to submenu 1\n",
    "sub1.append_child(sub12)\n",
    "\n",
    "# Build a top-level composite menu\n",
    "top = Composite(\"top_menu\")\n",
    "\n",
    "# Build a submenu 2 that is not a composite\n",
    "sub2 = Composite(\"submenu2\")\n",
    "sub2.append_child(sub11)\n",
    "\n",
    "# Add the composite submenu 1 to the top-level composite menu\n",
    "top.append_child(sub1)\n",
    "\n",
    "# Add the plain submenu 2 to the top-level composite menu\n",
    "top.append_child(sub2)\n",
    "\n",
    "# Let's test if our composite pattern works!\n",
    "top.component_function()"
   ]
  },
  {
   "cell_type": "markdown",
   "metadata": {},
   "source": [
    "## Bridge"
   ]
  },
  {
   "cell_type": "markdown",
   "metadata": {},
   "source": [
    "- Implementation-indepentent circle abstraction: involves how to define the properties of the circle and scale it\n",
    "- Implementation-dependent circle abstraction: involves how to draw a circle"
   ]
  },
  {
   "cell_type": "code",
   "execution_count": 46,
   "metadata": {},
   "outputs": [
    {
     "name": "stdout",
     "output_type": "stream",
     "text": [
      "API 1 drawing a circle at (1, 2 with radius 3!)\n",
      "API 2 drawing a circle at (2, 3 with radius 4!)\n"
     ]
    }
   ],
   "source": [
    "class DrawingAPIOne(object):\n",
    "    \"\"\"Implementation-specific abstraction: concrete class one\"\"\"\n",
    "    def draw_circle(self, x, y, radius):\n",
    "        print(f\"API 1 drawing a circle at ({x}, {y} with radius {radius}!)\")\n",
    "    \n",
    "class DrawingAPITwo(object):\n",
    "    \"\"\"Implementation-specific abstraction: concrete class two\"\"\"\n",
    "    def draw_circle(self, x, y, radius):\n",
    "        print(f\"API 2 drawing a circle at ({x}, {y} with radius {radius}!)\")\n",
    "    \n",
    "class Circle(object):\n",
    "    \"\"\"Implementation-independent abstraction: for example, there could be a rectangle class\"\"\"\n",
    "    \n",
    "    def __init__(self, x, y, radius, drawing_api):\n",
    "        \"\"\"Initialize the necessary attributes\"\"\"\n",
    "        self._x = x\n",
    "        self._y = y\n",
    "        self._radius = radius\n",
    "        self._drawing_api = drawing_api\n",
    "        \n",
    "    def draw(self):\n",
    "        \"\"\"Implementation-specific abstraction taken care of by another class: DrawingAPI\"\"\"\n",
    "        self._drawing_api.draw_circle(self._x, self._y, self._radius)\n",
    "        \n",
    "    def scale(self, percent):\n",
    "        \"\"\"Implementation independent\"\"\"\n",
    "        self._radius *= radius\n",
    "        \n",
    "\n",
    "# Build the first circle object using API One\n",
    "circle1 = Circle(1, 2, 3, DrawingAPIOne())\n",
    "\n",
    "# Build the \n",
    "circle1.draw()\n",
    "\n",
    "# Build the second circle object using API One\n",
    "circle2 = Circle(2, 3, 4, DrawingAPITwo())\n",
    "\n",
    "circle2.draw()"
   ]
  },
  {
   "cell_type": "markdown",
   "metadata": {},
   "source": [
    "---"
   ]
  },
  {
   "cell_type": "markdown",
   "metadata": {},
   "source": [
    "# Behavioral Patterns\n",
    "Best practices for objects interactions."
   ]
  },
  {
   "cell_type": "markdown",
   "metadata": {},
   "source": [
    "## Observer"
   ]
  },
  {
   "cell_type": "markdown",
   "metadata": {},
   "source": [
    "One-two many relationships between a subject and multiple observers.\n",
    "Example: Core temperatures monitored by observers.\n",
    "- Subject: abstract class (Attach Detach Notify)\n",
    "- Concrete subjects"
   ]
  },
  {
   "cell_type": "code",
   "execution_count": 29,
   "metadata": {},
   "outputs": [
    {
     "name": "stdout",
     "output_type": "stream",
     "text": [
      "Temperature Viewer: Core 1 has temperature 80\n",
      "Temperature Viewer: Core 1 has temperature 80\n",
      "Temperature Viewer: Core 1 has temperature 90\n",
      "Temperature Viewer: Core 1 has temperature 90\n"
     ]
    }
   ],
   "source": [
    "class Subject(object):  # Represents what is being 'observed'\n",
    "    \"\"\"This is where references to all the observers\n",
    "    are being kept. Note that this is a one-to-\n",
    "    many relationship: there will be one subject\n",
    "    to be observed by multiple observers.\"\"\"\n",
    "    def __init__(self):\n",
    "        self._observers = []\n",
    "        \n",
    "    def attach(self, observer):\n",
    "        \"\"\"If the observer is not already in the observers list\n",
    "        append the observer to the list\"\"\"\n",
    "        if observer not in self._observers:\n",
    "            self._observers.append(observer)     \n",
    "        \n",
    "    def detach(self, modifier=None):\n",
    "        \"\"\"Simply remove the observer\"\"\"\n",
    "        try:\n",
    "            self._observers.remove(observer)\n",
    "        except ValueError:\n",
    "            pass\n",
    "\n",
    "    def notify(self, modifier = None):\n",
    "        \"\"\"For all the observers in the list. Don't notify the observer\n",
    "        who is actually updating the temperature of the core\"\"\"\n",
    "        for observer in self._observers:\n",
    "            if modifier != observer:\n",
    "                observer.update(self)\n",
    "            \n",
    "    \n",
    "class Core(Subject): # Inherits from the Subject class\n",
    "    def __init__(self, name = \"\"):\n",
    "        Subject.__init__(self)\n",
    "        self._name = name # Set the name of the core\n",
    "        self._temp = 0 # Initiaize the temperature of the core\n",
    "        \n",
    "    @property # Getter that gets the core temperature\n",
    "    def temp(self):\n",
    "        return self._temp\n",
    "    \n",
    "    @temp.setter # Setter that sets the core temperature\n",
    "    def temp(self, temp):\n",
    "        \"\"\"Notify the observers whenever somebody changes the core temperature\"\"\"\n",
    "        self._temp = temp\n",
    "        self.notify()\n",
    "        \n",
    "        \n",
    "class TempViewer:\n",
    "    \"\"\"A printer for the temperature\"\"\"\n",
    "    def update(self, subject):\n",
    "        \"\"\"Alert method that is invoked when the notify()\n",
    "        method in a concrete subject is invoked\"\"\"\n",
    "        print(f\"Temperature Viewer: {subject._name} has temperature {subject._temp}\")\n",
    "\n",
    "        \n",
    "# CODE\n",
    "# Let's create our subjects\n",
    "c1 = Core(\"Core 1\")\n",
    "c2 = Core(\"Core 2\")\n",
    "\n",
    "# Let's create our observers\n",
    "v1 = TempViewer()\n",
    "v2 = TempViewer()\n",
    "\n",
    "# Let's attach our observers to the first core\n",
    "c1.attach(v1)\n",
    "c1.attach(v2)\n",
    "\n",
    "# Let's change the temperature of our first core\n",
    "c1.temp = 80\n",
    "c1.temp = 90"
   ]
  },
  {
   "cell_type": "markdown",
   "metadata": {},
   "source": [
    "## Visitor"
   ]
  },
  {
   "cell_type": "markdown",
   "metadata": {},
   "source": [
    "Allows adding new features to an existing class hierarchy without changing it.\n",
    "- House class\n",
    "- HVAC specialist Visitor type 1\n",
    "- Electrician: Visitor type 2"
   ]
  },
  {
   "cell_type": "code",
   "execution_count": 32,
   "metadata": {},
   "outputs": [
    {
     "name": "stdout",
     "output_type": "stream",
     "text": [
      "House worked on by HvacSpecialist\n",
      "House worked on by Electrician\n"
     ]
    }
   ],
   "source": [
    "class House(object):\n",
    "    \"\"\"The class being visited\"\"\"\n",
    "    def accept(self, visitor):\n",
    "        \"\"\"Interface to accept a visitor, triggers the visiting operation!\"\"\"\n",
    "        visitor.visit(self)\n",
    "        \n",
    "    def work_on_hvac(self, hvac_specialist):\n",
    "        \"\"\"Reference to the hvac specialist object in the house object\"\"\"\n",
    "        print(f\"{self} worked on by {hvac_specialist}\")\n",
    "        \n",
    "    def work_on_electricity(self, electrician):\n",
    "        \"\"\"Reference to the electrician object in the house object\"\"\"\n",
    "        print(f\"{self} worked on by {electrician}\")\n",
    "        \n",
    "    def __str__(self):\n",
    "        \"\"\"Simply return the class name when the House object is printed\"\"\"\n",
    "        return self.__class__.__name__\n",
    "    \n",
    "class Visitor(object):\n",
    "    \"\"\"Abstract visitor\"\"\"\n",
    "    def __str__(self):\n",
    "        \"\"\"Simply return the class name when the visitor object is printed\"\"\"\n",
    "        return self.__class__.__name__\n",
    "    \n",
    "class HvacSpecialist(Visitor):\n",
    "    \"\"\"Concrete visitor: electrician\n",
    "    Inherits from the parent class, Visitor\"\"\"\n",
    "    def visit(self, house):\n",
    "        house.work_on_hvac(self)\n",
    "        \n",
    "class Electrician(Visitor):\n",
    "    \"\"\"Concrete visitor: electrician\n",
    "    Inherits from the parent class, Visitor\"\"\"\n",
    "    def visit(self, house):\n",
    "        house.work_on_electricity(self)\n",
    "        \n",
    "\n",
    "# CODE\n",
    "# Create an HVAC especialist\n",
    "hvac_specialist = HvacSpecialist()\n",
    "\n",
    "# Create an electritian\n",
    "electrician = Electrician()\n",
    "\n",
    "# Create a House\n",
    "house = House()\n",
    "\n",
    "# Let the house accept the HVAC specialist and work on the house\n",
    "# by invokation the visit() method\n",
    "house.accept(hvac_specialist)\n",
    "\n",
    "# Let the house accept the HVAC specialist and work on the house\n",
    "# by invokation the visit() method\n",
    "house.accept(electrician)"
   ]
  },
  {
   "cell_type": "markdown",
   "metadata": {},
   "source": [
    "## Iterator"
   ]
  },
  {
   "cell_type": "markdown",
   "metadata": {},
   "source": [
    "Allows a client to have sequential access to the elements of an aggregate object without exposing its underlying structure.\n",
    "- Python iterator: zip()\n",
    "- Example: iterate spanish counting words"
   ]
  },
  {
   "cell_type": "code",
   "execution_count": 65,
   "metadata": {},
   "outputs": [
    {
     "name": "stdout",
     "output_type": "stream",
     "text": [
      "The number is: uno.\n",
      "The number is: dos.\n",
      "The number is: tres.\n",
      "The number is: cuatro.\n",
      "The number is: cinco.\n",
      "The number is: seis.\n",
      "The number is: siete.\n",
      "The number is: ocho.\n"
     ]
    }
   ],
   "source": [
    "def count_to(count):\n",
    "    \"\"\"Our iterator implementation\"\"\"\n",
    "    \n",
    "    # Our list\n",
    "    numbers_in_spanish = ['uno', 'dos', 'tres', 'cuatro', 'cinco',\n",
    "                         'seis', 'siete', 'ocho', 'nueve', 'diez']\n",
    "    \n",
    "    # Our build in iterator\n",
    "    # Creates a tuple such as (1, \"uno\")\n",
    "    iterator = zip(range(count), numbers_in_spanish)\n",
    "    \n",
    "    # Iterate thourgh our iterable list\n",
    "    # Extract the Spanish numbers\n",
    "    # put them in a generator called number\n",
    "    for position, number in iterator:\n",
    "        # Returns a 'generator' containing numbers in Spanish\n",
    "        yield number\n",
    "\n",
    "# CODE\n",
    "# Lest's test the generator returned by our iterator\n",
    "for i in count_to(8):\n",
    "    print(f\"The number is: {i}.\")"
   ]
  },
  {
   "cell_type": "markdown",
   "metadata": {},
   "source": [
    "## Strategy"
   ]
  },
  {
   "cell_type": "markdown",
   "metadata": {},
   "source": [
    "Offers a family of interchangeable algorithims to a client. When there is a need of dynamically changing the behavior of an object.\n",
    "- Abstract Strategy class with a default set of behaviors\n",
    "- Concrete Strategy classes with new behaviors"
   ]
  },
  {
   "cell_type": "code",
   "execution_count": 69,
   "metadata": {},
   "outputs": [
    {
     "name": "stdout",
     "output_type": "stream",
     "text": [
      "Default Strategy is used!\n",
      "Strategy_one is used to execute method 1\n",
      "Strategy_two is used to execute method 2\n"
     ]
    }
   ],
   "source": [
    "import types # Types module\n",
    "\n",
    "class Strategy:\n",
    "    \"\"\"The Strategy Pattern class\"\"\"\n",
    "    def __init__(self, function = None):\n",
    "        self.name = \"Default Strategy\"\n",
    "        \n",
    "        # If a reference to a function is provided, replace the execute() method with the given function.\n",
    "        if function:\n",
    "            self.execute = types.MethodType(function, self)\n",
    "        \n",
    "    def execute(self):\n",
    "        \"\"\"The default method that prints the name of the strategy being used\"\"\"\n",
    "        print(f\"{self.name} is used!\")\n",
    "            \n",
    "\n",
    "# Replacement method 1\n",
    "def strategy_one(self):\n",
    "    print(f\"{self.name} is used to execute method 1\")\n",
    "    \n",
    "def strategy_two(self):\n",
    "    print(f\"{self.name} is used to execute method 2\")\n",
    "\n",
    "# CODE\n",
    "# Let's create our default strategy\n",
    "s0 = Strategy()\n",
    "# Let's execute our default strategy\n",
    "s0.execute()\n",
    "\n",
    "# Let's create our first variation of our default strategy by providing a new behavior\n",
    "s1 = Strategy(strategy_one)\n",
    "# Let's set its name\n",
    "s1.name = \"Strategy_one\"\n",
    "# Let's execute the strategy\n",
    "s1.execute()\n",
    "\n",
    "# Let's create our first variation of our default strategy by providing a new behavior\n",
    "s2 = Strategy(strategy_two)\n",
    "# Let's set its name\n",
    "s2.name = \"Strategy_two\"\n",
    "# Let's execute the strategy\n",
    "s2.execute()\n",
    "    "
   ]
  },
  {
   "cell_type": "markdown",
   "metadata": {},
   "source": [
    "## Chain of resposibility"
   ]
  },
  {
   "cell_type": "markdown",
   "metadata": {},
   "source": [
    "Opens up various possibilities of processing for a given request. It decouples the request and it's processing.\n",
    "- Abstract Handler: Succesor\n",
    "- Concrete Handler: Checks if it can handle the request"
   ]
  },
  {
   "cell_type": "code",
   "execution_count": 76,
   "metadata": {},
   "outputs": [
    {
     "name": "stdout",
     "output_type": "stream",
     "text": [
      "Request 2 handled in handeler 1\n",
      "Request 5 handled in handeler 1\n",
      "End of chain, no handler for 30\n"
     ]
    }
   ],
   "source": [
    "class Handler:\n",
    "    \"\"\"Abstract Handler\"\"\"\n",
    "    def __init__(self, succesor):\n",
    "        \"\"\"Define who is the next handler\"\"\"\n",
    "        self._succesor = succesor\n",
    "    \n",
    "    def handle(self, request):\n",
    "        handled = self._handle(request)\n",
    "        \n",
    "        if not handled:\n",
    "            self._succesor.handle(request)\n",
    "        \n",
    "    def _handle(self, request):\n",
    "        raise NotImplementedError(\"Must provide implementation in subclass!\")\n",
    "\n",
    "class ConcreteHandler1(Handler):\n",
    "    \"\"\"Concrete handler 1\"\"\"\n",
    "    def _handle(self, request):\n",
    "        if 0 < request <= 10: # Provide a condition for handling\n",
    "            print(f\"Request {request} handled in handeler 1\")\n",
    "            return True # Indicates the request have been handled\n",
    "        \n",
    "class DefaultHandler(Handler):\n",
    "    \"\"\"Default handler\"\"\"\n",
    "    def _handle(self, request):\n",
    "        \"\"\"If ther is no handler available. No condition checking since\n",
    "        this is a default handler\"\"\"\n",
    "        print(f\"End of chain, no handler for {request}\")\n",
    "        return True # Indicates that the request has been handled\n",
    "    \n",
    "class Client:\n",
    "    \"\"\"Using handlers\"\"\"\n",
    "    def __init__(self):\n",
    "        \"\"\"Create handlers and use them in a sequence you want\"\"\"\n",
    "        self.handler = ConcreteHandler1(DefaultHandler(None))\n",
    "    \n",
    "    def delegate(self, requests):\n",
    "        \"\"\"Send your requestas one at a time for handlers to handle\"\"\"\n",
    "        for request in requests:\n",
    "            self.handler.handle(request)\n",
    "            \n",
    "# CODE\n",
    "# Create a client\n",
    "client = Client()\n",
    "\n",
    "# Create requests\n",
    "requests = [2, 5, 30]\n",
    "\n",
    "# Send requests\n",
    "client.delegate(requests)"
   ]
  },
  {
   "cell_type": "markdown",
   "metadata": {},
   "source": [
    "---"
   ]
  },
  {
   "cell_type": "markdown",
   "metadata": {},
   "source": [
    "# Design Best Practices"
   ]
  },
  {
   "cell_type": "markdown",
   "metadata": {},
   "source": [
    "## Consistency\n",
    "### Design Patterns\n",
    "- Same problem yields same solution with minimal modification of code.\n",
    "- Decrease in errors\n",
    "- Incriase in detecting errors\n",
    "- Cost savings (No need to reinvent the wheel and waste your time)\n",
    "### Scaling up\n",
    "- Software architecture: Identifying a pattern to be used throughout software consistency.\n",
    "- Frameworks: A collection of design patterns, software security, web.\n",
    "\n",
    "## Completeness & Correctness\n",
    "- Completeness: How much of what is required: Design patterns > baseline requirements > potential customizationand extension\n",
    "- Correctness: Correct results: Mission-critical systems\n",
    "\n",
    "## Copuling & Cohesion\n",
    "- Copuling: The degree to wich your software elements are conected\n",
    "- Cohesion: The degree of independence\n",
    "\n",
    "**More cohesion and less copuling as a goal**\n",
    "\n",
    "## Simplicity and Generality Trade-Offs\n",
    "- Wider adoption: More functionality but too complex\n",
    "- Simplicity: Learning curve and practicioners."
   ]
  }
 ],
 "metadata": {
  "kernelspec": {
   "display_name": "Python 3",
   "language": "python",
   "name": "python3"
  },
  "language_info": {
   "codemirror_mode": {
    "name": "ipython",
    "version": 3
   },
   "file_extension": ".py",
   "mimetype": "text/x-python",
   "name": "python",
   "nbconvert_exporter": "python",
   "pygments_lexer": "ipython3",
   "version": "3.8.2"
  }
 },
 "nbformat": 4,
 "nbformat_minor": 5
}
